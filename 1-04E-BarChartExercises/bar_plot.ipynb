{
 "cells": [
  {
   "cell_type": "code",
   "execution_count": 1,
   "id": "07cfb76f",
   "metadata": {},
   "outputs": [],
   "source": [
    "import pandas as pd \n",
    "import numpy as ny \n",
    "import plotly.express as px\n",
    "import plotly.graph_objects as go\n",
    "import plotly.offline as pyo "
   ]
  },
  {
   "cell_type": "code",
   "execution_count": 2,
   "id": "81d15e78",
   "metadata": {},
   "outputs": [
    {
     "data": {
      "text/html": [
       "<div>\n",
       "<style scoped>\n",
       "    .dataframe tbody tr th:only-of-type {\n",
       "        vertical-align: middle;\n",
       "    }\n",
       "\n",
       "    .dataframe tbody tr th {\n",
       "        vertical-align: top;\n",
       "    }\n",
       "\n",
       "    .dataframe thead th {\n",
       "        text-align: right;\n",
       "    }\n",
       "</style>\n",
       "<table border=\"1\" class=\"dataframe\">\n",
       "  <thead>\n",
       "    <tr style=\"text-align: right;\">\n",
       "      <th></th>\n",
       "      <th>Rank</th>\n",
       "      <th>NOC</th>\n",
       "      <th>Gold</th>\n",
       "      <th>Silver</th>\n",
       "      <th>Bronze</th>\n",
       "      <th>Total</th>\n",
       "    </tr>\n",
       "  </thead>\n",
       "  <tbody>\n",
       "    <tr>\n",
       "      <th>0</th>\n",
       "      <td>1</td>\n",
       "      <td>Norway</td>\n",
       "      <td>14</td>\n",
       "      <td>14</td>\n",
       "      <td>11</td>\n",
       "      <td>39</td>\n",
       "    </tr>\n",
       "    <tr>\n",
       "      <th>1</th>\n",
       "      <td>2</td>\n",
       "      <td>Germany</td>\n",
       "      <td>14</td>\n",
       "      <td>10</td>\n",
       "      <td>7</td>\n",
       "      <td>31</td>\n",
       "    </tr>\n",
       "    <tr>\n",
       "      <th>2</th>\n",
       "      <td>3</td>\n",
       "      <td>Canada</td>\n",
       "      <td>11</td>\n",
       "      <td>8</td>\n",
       "      <td>10</td>\n",
       "      <td>29</td>\n",
       "    </tr>\n",
       "    <tr>\n",
       "      <th>3</th>\n",
       "      <td>4</td>\n",
       "      <td>United States</td>\n",
       "      <td>9</td>\n",
       "      <td>8</td>\n",
       "      <td>6</td>\n",
       "      <td>23</td>\n",
       "    </tr>\n",
       "    <tr>\n",
       "      <th>4</th>\n",
       "      <td>5</td>\n",
       "      <td>Netherlands</td>\n",
       "      <td>8</td>\n",
       "      <td>6</td>\n",
       "      <td>6</td>\n",
       "      <td>20</td>\n",
       "    </tr>\n",
       "  </tbody>\n",
       "</table>\n",
       "</div>"
      ],
      "text/plain": [
       "   Rank            NOC  Gold  Silver  Bronze  Total\n",
       "0     1         Norway    14      14      11     39\n",
       "1     2        Germany    14      10       7     31\n",
       "2     3         Canada    11       8      10     29\n",
       "3     4  United States     9       8       6     23\n",
       "4     5    Netherlands     8       6       6     20"
      ]
     },
     "execution_count": 2,
     "metadata": {},
     "output_type": "execute_result"
    }
   ],
   "source": [
    "medal = pd.read_csv('../Data/2018WinterOlympics.csv', header = 0)\n",
    "\n",
    "medal.head()"
   ]
  },
  {
   "cell_type": "code",
   "execution_count": 9,
   "id": "bf438b58",
   "metadata": {},
   "outputs": [
    {
     "data": {
      "text/plain": [
       "'temp-plot.html'"
      ]
     },
     "execution_count": 9,
     "metadata": {},
     "output_type": "execute_result"
    }
   ],
   "source": [
    "bar1= go.Bar(x = medal.NOC, \n",
    "             y = medal.Total)\n",
    "\n",
    "bar_lay1 = go.Layout(title = 'first Bar')\n",
    "\n",
    "fig = go.Figure(data = bar1, layout= bar_lay1)\n",
    "\n",
    "pyo.plot(fig)"
   ]
  },
  {
   "cell_type": "code",
   "execution_count": 29,
   "id": "e0eaec7e",
   "metadata": {},
   "outputs": [
    {
     "data": {
      "text/plain": [
       "'temp-plot.html'"
      ]
     },
     "execution_count": 29,
     "metadata": {},
     "output_type": "execute_result"
    }
   ],
   "source": [
    "color_map = {\n",
    "    'Gold': 'gold',\n",
    "    'Silver': 'silver',\n",
    "    'Bronze': '#cd7f32'  # Bronze isn't a named color, use hex code\n",
    "}\n",
    "\n",
    "\n",
    "bar2 = [go.Bar(x = medal.NOC, \n",
    "               y = medal[i],\n",
    "               name = i,\n",
    "               marker= dict(color = color_map[i]))\n",
    "        for i in ['Gold', 'Silver', 'Bronze']]\n",
    "\n",
    "bar_lay2 = go.Layout(title = 'first Bar',\n",
    "                     xaxis= dict(title = 'Country'),\n",
    "                     yaxis= dict(title = 'Medal_ct'))\n",
    "\n",
    "f2 = go.Figure(data= bar2, layout= bar_lay2)\n",
    "\n",
    "pyo.plot(f2)\n"
   ]
  },
  {
   "cell_type": "code",
   "execution_count": 30,
   "id": "b9833bec",
   "metadata": {},
   "outputs": [
    {
     "data": {
      "text/plain": [
       "'temp-plot.html'"
      ]
     },
     "execution_count": 30,
     "metadata": {},
     "output_type": "execute_result"
    }
   ],
   "source": [
    "color_map = {\n",
    "    'Gold': 'gold',\n",
    "    'Silver': 'silver',\n",
    "    'Bronze': '#cd7f32'  # Bronze isn't a named color, use hex code\n",
    "}\n",
    "\n",
    "bar3 = [go.Bar(x = medal.NOC, \n",
    "               y = medal[i],\n",
    "               name = i,\n",
    "               marker= {'color': color_map[i] })\n",
    "        for i in ['Gold', 'Silver', 'Bronze']]\n",
    "\n",
    "bar_lay3 = go.Layout(title = 'first Bar',\n",
    "                     xaxis= dict(title = 'Country'),\n",
    "                     yaxis= dict(title = 'Medal_ct'),\n",
    "                     barmode= 'stack')\n",
    "\n",
    "f3 = go.Figure(data= bar3, layout= bar_lay3)\n",
    "\n",
    "pyo.plot(f3)\n"
   ]
  },
  {
   "cell_type": "code",
   "execution_count": 32,
   "id": "948c4223",
   "metadata": {},
   "outputs": [
    {
     "data": {
      "text/plain": [
       "['gold', 'silver', 'bronze']"
      ]
     },
     "execution_count": 32,
     "metadata": {},
     "output_type": "execute_result"
    }
   ],
   "source": [
    "[i.lower() for i in ['Gold', 'Silver', 'Bronze']]"
   ]
  },
  {
   "cell_type": "code",
   "execution_count": 36,
   "id": "ba139275",
   "metadata": {},
   "outputs": [
    {
     "data": {
      "text/html": [
       "<div>\n",
       "<style scoped>\n",
       "    .dataframe tbody tr th:only-of-type {\n",
       "        vertical-align: middle;\n",
       "    }\n",
       "\n",
       "    .dataframe tbody tr th {\n",
       "        vertical-align: top;\n",
       "    }\n",
       "\n",
       "    .dataframe thead th {\n",
       "        text-align: right;\n",
       "    }\n",
       "</style>\n",
       "<table border=\"1\" class=\"dataframe\">\n",
       "  <thead>\n",
       "    <tr style=\"text-align: right;\">\n",
       "      <th></th>\n",
       "      <th>Unnamed: 0</th>\n",
       "      <th>Strongly Agree</th>\n",
       "      <th>Somewhat Agree</th>\n",
       "      <th>Neutral</th>\n",
       "      <th>Somewhat Disagree</th>\n",
       "      <th>Strongly Disagree</th>\n",
       "    </tr>\n",
       "  </thead>\n",
       "  <tbody>\n",
       "    <tr>\n",
       "      <th>0</th>\n",
       "      <td>Question 1</td>\n",
       "      <td>0.45</td>\n",
       "      <td>0.25</td>\n",
       "      <td>0.10</td>\n",
       "      <td>0.12</td>\n",
       "      <td>0.08</td>\n",
       "    </tr>\n",
       "    <tr>\n",
       "      <th>1</th>\n",
       "      <td>Question 2</td>\n",
       "      <td>0.12</td>\n",
       "      <td>0.07</td>\n",
       "      <td>0.48</td>\n",
       "      <td>0.18</td>\n",
       "      <td>0.15</td>\n",
       "    </tr>\n",
       "    <tr>\n",
       "      <th>2</th>\n",
       "      <td>Question 3</td>\n",
       "      <td>0.05</td>\n",
       "      <td>0.22</td>\n",
       "      <td>0.19</td>\n",
       "      <td>0.23</td>\n",
       "      <td>0.31</td>\n",
       "    </tr>\n",
       "  </tbody>\n",
       "</table>\n",
       "</div>"
      ],
      "text/plain": [
       "   Unnamed: 0  Strongly Agree  Somewhat Agree  Neutral  Somewhat Disagree  \\\n",
       "0  Question 1            0.45            0.25     0.10               0.12   \n",
       "1  Question 2            0.12            0.07     0.48               0.18   \n",
       "2  Question 3            0.05            0.22     0.19               0.23   \n",
       "\n",
       "   Strongly Disagree  \n",
       "0               0.08  \n",
       "1               0.15  \n",
       "2               0.31  "
      ]
     },
     "execution_count": 36,
     "metadata": {},
     "output_type": "execute_result"
    }
   ],
   "source": [
    "#######\n",
    "# Objective: Create a stacked bar chart from\n",
    "# the file ../data/mocksurvey.csv. Note that questions appear in\n",
    "# the index (and should be used for the x-axis), while responses\n",
    "# appear as column labels.  Extra Credit: make a horizontal bar chart!\n",
    "######\n",
    "\n",
    "# create a DataFrame from the .csv file:\n",
    "\n",
    "bar_exc = pd.read_csv('../Data/mocksurvey.csv', header= 0)\n",
    "\n",
    "bar_exc.head()"
   ]
  },
  {
   "cell_type": "code",
   "execution_count": 42,
   "id": "73bdeed0",
   "metadata": {},
   "outputs": [
    {
     "data": {
      "text/plain": [
       "'temp-plot.html'"
      ]
     },
     "execution_count": 42,
     "metadata": {},
     "output_type": "execute_result"
    }
   ],
   "source": [
    "# create traces using a list comprehension:\n",
    "\n",
    "bar_e = [go.Bar(x = bar_exc.iloc[:,0],\n",
    "                y = bar_exc[i],\n",
    "                name = i)\n",
    "         for i in bar_exc.columns[1:]]\n",
    "\n",
    "# create a layout, remember to set the barmode here\n",
    "\n",
    "lay_e = go.Layout(title= 'Bar exercise 1',\n",
    "                  xaxis= dict(title = 'Questions'),\n",
    "                  yaxis= dict(title = 'agree_perc'), \n",
    "                  barmode= 'stack')\n",
    "\n",
    "exc_fig = go.Figure(data = bar_e, layout= lay_e)\n",
    "\n",
    "pyo.plot(exc_fig)"
   ]
  },
  {
   "cell_type": "code",
   "execution_count": 45,
   "id": "8bc8b847",
   "metadata": {},
   "outputs": [
    {
     "data": {
      "text/plain": [
       "'temp-plot.html'"
      ]
     },
     "execution_count": 45,
     "metadata": {},
     "output_type": "execute_result"
    }
   ],
   "source": [
    "# create traces using a list comprehension:\n",
    "\n",
    "bar_e_t = [go.Bar(x = bar_exc[i],\n",
    "                  y = bar_exc.iloc[:,0],\n",
    "                  name = i,\n",
    "                  orientation='h')\n",
    "         for i in bar_exc.columns[1:]]\n",
    "\n",
    "# create a layout, remember to set the barmode here\n",
    "\n",
    "lay_e_t = go.Layout(title= 'Bar exercise 1',\n",
    "                  xaxis= dict(title = 'agree_perc'),\n",
    "                  yaxis= dict(title = 'Questions'), \n",
    "                  barmode= 'stack')\n",
    "\n",
    "exc_fig_t = go.Figure(data = bar_e_t, layout= lay_e_t)\n",
    "\n",
    "pyo.plot(exc_fig_t)"
   ]
  }
 ],
 "metadata": {
  "kernelspec": {
   "display_name": "base",
   "language": "python",
   "name": "python3"
  },
  "language_info": {
   "codemirror_mode": {
    "name": "ipython",
    "version": 3
   },
   "file_extension": ".py",
   "mimetype": "text/x-python",
   "name": "python",
   "nbconvert_exporter": "python",
   "pygments_lexer": "ipython3",
   "version": "3.9.13"
  }
 },
 "nbformat": 4,
 "nbformat_minor": 5
}
