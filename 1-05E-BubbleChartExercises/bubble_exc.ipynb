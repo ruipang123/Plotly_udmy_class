{
 "cells": [
  {
   "cell_type": "code",
   "execution_count": 2,
   "id": "991192ea",
   "metadata": {},
   "outputs": [],
   "source": [
    "import numpy as np \n",
    "import pandas as pd \n",
    "import plotly.offline as pyo\n",
    "import plotly.graph_objects as go\n",
    "import plotly.express as px"
   ]
  },
  {
   "cell_type": "code",
   "execution_count": 8,
   "id": "ce651edb",
   "metadata": {},
   "outputs": [
    {
     "data": {
      "text/html": [
       "<div>\n",
       "<style scoped>\n",
       "    .dataframe tbody tr th:only-of-type {\n",
       "        vertical-align: middle;\n",
       "    }\n",
       "\n",
       "    .dataframe tbody tr th {\n",
       "        vertical-align: top;\n",
       "    }\n",
       "\n",
       "    .dataframe thead th {\n",
       "        text-align: right;\n",
       "    }\n",
       "</style>\n",
       "<table border=\"1\" class=\"dataframe\">\n",
       "  <thead>\n",
       "    <tr style=\"text-align: right;\">\n",
       "      <th></th>\n",
       "      <th>mpg</th>\n",
       "      <th>cylinders</th>\n",
       "      <th>displacement</th>\n",
       "      <th>horsepower</th>\n",
       "      <th>weight</th>\n",
       "      <th>acceleration</th>\n",
       "      <th>model_year</th>\n",
       "      <th>origin</th>\n",
       "      <th>name</th>\n",
       "    </tr>\n",
       "  </thead>\n",
       "  <tbody>\n",
       "    <tr>\n",
       "      <th>133</th>\n",
       "      <td>16.0</td>\n",
       "      <td>6</td>\n",
       "      <td>250.0</td>\n",
       "      <td>100</td>\n",
       "      <td>3781</td>\n",
       "      <td>17.0</td>\n",
       "      <td>74</td>\n",
       "      <td>1</td>\n",
       "      <td>chevrolet chevelle malibu classic</td>\n",
       "    </tr>\n",
       "    <tr>\n",
       "      <th>98</th>\n",
       "      <td>16.0</td>\n",
       "      <td>6</td>\n",
       "      <td>250.0</td>\n",
       "      <td>100</td>\n",
       "      <td>3278</td>\n",
       "      <td>18.0</td>\n",
       "      <td>73</td>\n",
       "      <td>1</td>\n",
       "      <td>chevrolet nova custom</td>\n",
       "    </tr>\n",
       "    <tr>\n",
       "      <th>256</th>\n",
       "      <td>20.5</td>\n",
       "      <td>6</td>\n",
       "      <td>225.0</td>\n",
       "      <td>100</td>\n",
       "      <td>3430</td>\n",
       "      <td>17.2</td>\n",
       "      <td>78</td>\n",
       "      <td>1</td>\n",
       "      <td>plymouth volare</td>\n",
       "    </tr>\n",
       "    <tr>\n",
       "      <th>107</th>\n",
       "      <td>18.0</td>\n",
       "      <td>6</td>\n",
       "      <td>232.0</td>\n",
       "      <td>100</td>\n",
       "      <td>2789</td>\n",
       "      <td>15.0</td>\n",
       "      <td>73</td>\n",
       "      <td>1</td>\n",
       "      <td>amc gremlin</td>\n",
       "    </tr>\n",
       "    <tr>\n",
       "      <th>334</th>\n",
       "      <td>23.7</td>\n",
       "      <td>3</td>\n",
       "      <td>70.0</td>\n",
       "      <td>100</td>\n",
       "      <td>2420</td>\n",
       "      <td>12.5</td>\n",
       "      <td>80</td>\n",
       "      <td>3</td>\n",
       "      <td>mazda rx-7 gs</td>\n",
       "    </tr>\n",
       "  </tbody>\n",
       "</table>\n",
       "</div>"
      ],
      "text/plain": [
       "      mpg  cylinders  displacement  horsepower  weight  acceleration  \\\n",
       "133  16.0          6         250.0         100    3781          17.0   \n",
       "98   16.0          6         250.0         100    3278          18.0   \n",
       "256  20.5          6         225.0         100    3430          17.2   \n",
       "107  18.0          6         232.0         100    2789          15.0   \n",
       "334  23.7          3          70.0         100    2420          12.5   \n",
       "\n",
       "     model_year  origin                               name  \n",
       "133          74       1  chevrolet chevelle malibu classic  \n",
       "98           73       1              chevrolet nova custom  \n",
       "256          78       1                    plymouth volare  \n",
       "107          73       1                        amc gremlin  \n",
       "334          80       3                      mazda rx-7 gs  "
      ]
     },
     "execution_count": 8,
     "metadata": {},
     "output_type": "execute_result"
    }
   ],
   "source": [
    "bubb = pd.read_csv('../Data/mpg.csv', header = 0).sort_values(by= 'horsepower', ascending= True)\n",
    "\n",
    "bubb = bubb.loc[bubb.horsepower != '?',]\n",
    "bubb['horsepower'] = bubb.horsepower.astype(int)\n",
    "bubb.head()"
   ]
  },
  {
   "cell_type": "code",
   "execution_count": 9,
   "id": "8199795c",
   "metadata": {},
   "outputs": [
    {
     "data": {
      "text/plain": [
       "'temp-plot.html'"
      ]
     },
     "execution_count": 9,
     "metadata": {},
     "output_type": "execute_result"
    }
   ],
   "source": [
    "bubb_data = go.Scatter(x = bubb.horsepower, \n",
    "                       y = bubb.mpg,\n",
    "                       mode = 'markers')\n",
    "bubb_lay = go.Layout(title = 'mpg/Cylinders',\n",
    "                     xaxis= dict(title = 'HorsePower'),\n",
    "                     yaxis= dict(title = 'MPG'))\n",
    "\n",
    "fg1 = go.Figure(data = bubb_data, layout= bubb_lay)\n",
    "\n",
    "pyo.plot(fg1)"
   ]
  },
  {
   "cell_type": "code",
   "execution_count": 25,
   "id": "fd1e2a11",
   "metadata": {},
   "outputs": [
    {
     "data": {
      "text/plain": [
       "'temp-plot.html'"
      ]
     },
     "execution_count": 25,
     "metadata": {},
     "output_type": "execute_result"
    }
   ],
   "source": [
    "bubb_data_2 = go.Scatter(x = bubb.horsepower, \n",
    "                        y = bubb.mpg,\n",
    "                        text= bubb.name + ' | ' + bubb.cylinders.astype(str),\n",
    "                       mode = 'markers',\n",
    "                       marker= dict(size = 1.2* bubb.cylinders,\n",
    "                                    color= bubb.cylinders,\n",
    "                                    showscale = True\n",
    "                                    ))\n",
    "\n",
    "bubb_lay_2 = go.Layout(title = 'mpg/Cylinders',\n",
    "                     xaxis= dict(title = 'HorsePower'),\n",
    "                     yaxis= dict(title = 'MPG'),\n",
    "                     hovermode= 'closest')\n",
    "\n",
    "fg2 = go.Figure(data = bubb_data_2, layout= bubb_lay_2)\n",
    "\n",
    "pyo.plot(fg2)"
   ]
  },
  {
   "cell_type": "code",
   "execution_count": null,
   "id": "4b2a481b",
   "metadata": {},
   "outputs": [
    {
     "data": {
      "text/html": [
       "<div>\n",
       "<style scoped>\n",
       "    .dataframe tbody tr th:only-of-type {\n",
       "        vertical-align: middle;\n",
       "    }\n",
       "\n",
       "    .dataframe tbody tr th {\n",
       "        vertical-align: top;\n",
       "    }\n",
       "\n",
       "    .dataframe thead th {\n",
       "        text-align: right;\n",
       "    }\n",
       "</style>\n",
       "<table border=\"1\" class=\"dataframe\">\n",
       "  <thead>\n",
       "    <tr style=\"text-align: right;\">\n",
       "      <th></th>\n",
       "      <th>mpg</th>\n",
       "      <th>cylinders</th>\n",
       "      <th>displacement</th>\n",
       "      <th>horsepower</th>\n",
       "      <th>weight</th>\n",
       "      <th>acceleration</th>\n",
       "      <th>model_year</th>\n",
       "      <th>origin</th>\n",
       "      <th>name</th>\n",
       "    </tr>\n",
       "  </thead>\n",
       "  <tbody>\n",
       "    <tr>\n",
       "      <th>133</th>\n",
       "      <td>16.0</td>\n",
       "      <td>6</td>\n",
       "      <td>250.0</td>\n",
       "      <td>100</td>\n",
       "      <td>3781</td>\n",
       "      <td>17.0</td>\n",
       "      <td>74</td>\n",
       "      <td>1</td>\n",
       "      <td>chevrolet chevelle malibu classic</td>\n",
       "    </tr>\n",
       "    <tr>\n",
       "      <th>98</th>\n",
       "      <td>16.0</td>\n",
       "      <td>6</td>\n",
       "      <td>250.0</td>\n",
       "      <td>100</td>\n",
       "      <td>3278</td>\n",
       "      <td>18.0</td>\n",
       "      <td>73</td>\n",
       "      <td>1</td>\n",
       "      <td>chevrolet nova custom</td>\n",
       "    </tr>\n",
       "    <tr>\n",
       "      <th>256</th>\n",
       "      <td>20.5</td>\n",
       "      <td>6</td>\n",
       "      <td>225.0</td>\n",
       "      <td>100</td>\n",
       "      <td>3430</td>\n",
       "      <td>17.2</td>\n",
       "      <td>78</td>\n",
       "      <td>1</td>\n",
       "      <td>plymouth volare</td>\n",
       "    </tr>\n",
       "    <tr>\n",
       "      <th>107</th>\n",
       "      <td>18.0</td>\n",
       "      <td>6</td>\n",
       "      <td>232.0</td>\n",
       "      <td>100</td>\n",
       "      <td>2789</td>\n",
       "      <td>15.0</td>\n",
       "      <td>73</td>\n",
       "      <td>1</td>\n",
       "      <td>amc gremlin</td>\n",
       "    </tr>\n",
       "    <tr>\n",
       "      <th>334</th>\n",
       "      <td>23.7</td>\n",
       "      <td>3</td>\n",
       "      <td>70.0</td>\n",
       "      <td>100</td>\n",
       "      <td>2420</td>\n",
       "      <td>12.5</td>\n",
       "      <td>80</td>\n",
       "      <td>3</td>\n",
       "      <td>mazda rx-7 gs</td>\n",
       "    </tr>\n",
       "  </tbody>\n",
       "</table>\n",
       "</div>"
      ],
      "text/plain": [
       "      mpg  cylinders  displacement  horsepower  weight  acceleration  \\\n",
       "133  16.0          6         250.0         100    3781          17.0   \n",
       "98   16.0          6         250.0         100    3278          18.0   \n",
       "256  20.5          6         225.0         100    3430          17.2   \n",
       "107  18.0          6         232.0         100    2789          15.0   \n",
       "334  23.7          3          70.0         100    2420          12.5   \n",
       "\n",
       "     model_year  origin                               name  \n",
       "133          74       1  chevrolet chevelle malibu classic  \n",
       "98           73       1              chevrolet nova custom  \n",
       "256          78       1                    plymouth volare  \n",
       "107          73       1                        amc gremlin  \n",
       "334          80       3                      mazda rx-7 gs  "
      ]
     },
     "execution_count": 30,
     "metadata": {},
     "output_type": "execute_result"
    }
   ],
   "source": [
    "#######\n",
    "# Objective: Create a bubble chart that compares three other features\n",
    "# from the mpg.csv dataset. Fields include: 'mpg', 'cylinders', 'displacement'\n",
    "# 'horsepower', 'weight', 'acceleration', 'model_year', 'origin', 'name'\n",
    "######\n",
    "bubb.head()\n"
   ]
  },
  {
   "cell_type": "code",
   "execution_count": 40,
   "id": "1a257009",
   "metadata": {},
   "outputs": [
    {
     "data": {
      "text/plain": [
       "'temp-plot.html'"
      ]
     },
     "execution_count": 40,
     "metadata": {},
     "output_type": "execute_result"
    }
   ],
   "source": [
    "# create data by choosing fields for x, y and marker size attributes\n",
    "\n",
    "bubb_exc = go.Scatter(x= bubb.displacement,\n",
    "                      y= bubb.acceleration, \n",
    "                      mode = 'markers',\n",
    "                      text = bubb.name + ' | ' + bubb.cylinders.astype(str),\n",
    "                      marker= dict(size = 0.2* bubb.horsepower)\n",
    ")\n",
    "\n",
    "# create a layout with a title and axis labels\n",
    "bubb_exc_lay = go.Layout(title = 'Vechical acc VS DIS',\n",
    "                         xaxis = dict(title = 'displacement'),\n",
    "                         yaxis = dict(title = 'acceleration'),\n",
    "                         hovermode = 'closest'\n",
    ")\n",
    "\n",
    "bubb_e1 = go.Figure(data= bubb_exc, layout= bubb_exc_lay)\n",
    "\n",
    "pyo.plot(bubb_e1)\n",
    "\n"
   ]
  },
  {
   "cell_type": "code",
   "execution_count": null,
   "id": "b9c0e080",
   "metadata": {},
   "outputs": [],
   "source": []
  }
 ],
 "metadata": {
  "kernelspec": {
   "display_name": "base",
   "language": "python",
   "name": "python3"
  },
  "language_info": {
   "codemirror_mode": {
    "name": "ipython",
    "version": 3
   },
   "file_extension": ".py",
   "mimetype": "text/x-python",
   "name": "python",
   "nbconvert_exporter": "python",
   "pygments_lexer": "ipython3",
   "version": "3.9.13"
  }
 },
 "nbformat": 4,
 "nbformat_minor": 5
}
