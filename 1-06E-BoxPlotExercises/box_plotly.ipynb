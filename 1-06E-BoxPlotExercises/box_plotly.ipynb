{
 "cells": [
  {
   "cell_type": "code",
   "execution_count": 2,
   "id": "2098a046",
   "metadata": {},
   "outputs": [],
   "source": [
    "import pandas as pd \n",
    "import numpy as np\n",
    "import plotly.express as px \n",
    "import plotly.graph_objects as go\n",
    "import plotly.offline as pyo"
   ]
  },
  {
   "cell_type": "code",
   "execution_count": 26,
   "id": "50bfe9f6",
   "metadata": {},
   "outputs": [
    {
     "data": {
      "text/plain": [
       "'temp-plot.html'"
      ]
     },
     "execution_count": 26,
     "metadata": {},
     "output_type": "execute_result"
    }
   ],
   "source": [
    "np.random.seed(65)\n",
    "\n",
    "b1 = [x for x in np.random.randint(0,20, 30)]\n",
    "\n",
    "box_t = go.Box(y = b1)\n",
    "\n",
    "box_f = go.Figure(data = box_t)\n",
    "pyo.plot(box_f)"
   ]
  },
  {
   "cell_type": "code",
   "execution_count": null,
   "id": "5f64c022",
   "metadata": {},
   "outputs": [
    {
     "data": {
      "text/plain": [
       "'temp-plot.html'"
      ]
     },
     "execution_count": 20,
     "metadata": {},
     "output_type": "execute_result"
    }
   ],
   "source": [
    "box = [go.Box(y = b1, \n",
    "             boxpoints = 'all', #displat the original data points\n",
    "             jitter = 0.3, # spread them out so they all appear\n",
    "             pointpos = -1.8 # offset them to the left of the box\n",
    "             )\n",
    "             ]\n",
    "\n",
    "pyo.plot(box)"
   ]
  },
  {
   "cell_type": "code",
   "execution_count": 28,
   "id": "cc7d35a0",
   "metadata": {},
   "outputs": [
    {
     "data": {
      "text/plain": [
       "'temp-plot.html'"
      ]
     },
     "execution_count": 28,
     "metadata": {},
     "output_type": "execute_result"
    }
   ],
   "source": [
    "box = [go.Box(y = b1, \n",
    "             boxpoints = 'outliers', #displat the original data points\n",
    "             jitter = 0.3, # spread them out so they all appear\n",
    "             pointpos = -1.8 # offset them to the left of the box\n",
    "             )\n",
    "             ]\n",
    "\n",
    "pyo.plot(box)"
   ]
  },
  {
   "cell_type": "code",
   "execution_count": null,
   "id": "da216258",
   "metadata": {},
   "outputs": [],
   "source": []
  }
 ],
 "metadata": {
  "kernelspec": {
   "display_name": "base",
   "language": "python",
   "name": "python3"
  },
  "language_info": {
   "codemirror_mode": {
    "name": "ipython",
    "version": 3
   },
   "file_extension": ".py",
   "mimetype": "text/x-python",
   "name": "python",
   "nbconvert_exporter": "python",
   "pygments_lexer": "ipython3",
   "version": "3.9.13"
  }
 },
 "nbformat": 4,
 "nbformat_minor": 5
}
