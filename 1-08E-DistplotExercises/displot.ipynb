{
 "cells": [
  {
   "cell_type": "code",
   "execution_count": 3,
   "id": "cf42d1ac",
   "metadata": {},
   "outputs": [],
   "source": [
    "import numpy as np\n",
    "import pandas as pd \n",
    "import plotly.graph_objects as go\n",
    "import plotly.offline as pyo \n",
    "import plotly.express as px\n",
    "import plotly.figure_factory as ff"
   ]
  },
  {
   "cell_type": "code",
   "execution_count": 4,
   "id": "5aab3216",
   "metadata": {},
   "outputs": [
    {
     "data": {
      "text/plain": [
       "'temp-plot.html'"
      ]
     },
     "execution_count": 4,
     "metadata": {},
     "output_type": "execute_result"
    }
   ],
   "source": [
    "x1 = np.random.randn(1000)\n",
    "\n",
    "his_data1= [x1]\n",
    "\n",
    "group_labels1  = ['distpolt']\n",
    "\n",
    "f1 = ff.create_distplot(hist_data=his_data1, group_labels= group_labels1)\n",
    "\n",
    "pyo.plot(f1)"
   ]
  },
  {
   "cell_type": "code",
   "execution_count": 7,
   "id": "f5af32c1",
   "metadata": {},
   "outputs": [
    {
     "data": {
      "text/plain": [
       "'temp-plot.html'"
      ]
     },
     "execution_count": 7,
     "metadata": {},
     "output_type": "execute_result"
    }
   ],
   "source": [
    "xx1 = np.random.randn(1000) -2\n",
    "xx2 = np.random.randn(1000)\n",
    "xx3 = np.random.randn(1000)+2\n",
    "xx4 = np.random.randn(1000) +4\n",
    "\n",
    "\n",
    "his_data2= [xx1,xx2,xx3,xx4]\n",
    "\n",
    "group_labels2  = ['f1', 'f2', 'f3', 'f4']\n",
    "\n",
    "f2 = ff.create_distplot(hist_data=his_data2, \n",
    "                        group_labels= group_labels2,\n",
    "                        bin_size=[0.1,0.2,0.3,0.4])\n",
    "\n",
    "pyo.plot(f2)"
   ]
  },
  {
   "cell_type": "code",
   "execution_count": 14,
   "id": "7dee5310",
   "metadata": {},
   "outputs": [
    {
     "data": {
      "text/html": [
       "<div>\n",
       "<style scoped>\n",
       "    .dataframe tbody tr th:only-of-type {\n",
       "        vertical-align: middle;\n",
       "    }\n",
       "\n",
       "    .dataframe tbody tr th {\n",
       "        vertical-align: top;\n",
       "    }\n",
       "\n",
       "    .dataframe thead th {\n",
       "        text-align: right;\n",
       "    }\n",
       "</style>\n",
       "<table border=\"1\" class=\"dataframe\">\n",
       "  <thead>\n",
       "    <tr style=\"text-align: right;\">\n",
       "      <th></th>\n",
       "      <th>sepal_length</th>\n",
       "      <th>sepal_width</th>\n",
       "      <th>petal_length</th>\n",
       "      <th>petal_width</th>\n",
       "      <th>class</th>\n",
       "    </tr>\n",
       "  </thead>\n",
       "  <tbody>\n",
       "    <tr>\n",
       "      <th>0</th>\n",
       "      <td>5.1</td>\n",
       "      <td>3.5</td>\n",
       "      <td>1.4</td>\n",
       "      <td>0.2</td>\n",
       "      <td>Iris-setosa</td>\n",
       "    </tr>\n",
       "    <tr>\n",
       "      <th>1</th>\n",
       "      <td>4.9</td>\n",
       "      <td>3.0</td>\n",
       "      <td>1.4</td>\n",
       "      <td>0.2</td>\n",
       "      <td>Iris-setosa</td>\n",
       "    </tr>\n",
       "    <tr>\n",
       "      <th>2</th>\n",
       "      <td>4.7</td>\n",
       "      <td>3.2</td>\n",
       "      <td>1.3</td>\n",
       "      <td>0.2</td>\n",
       "      <td>Iris-setosa</td>\n",
       "    </tr>\n",
       "    <tr>\n",
       "      <th>3</th>\n",
       "      <td>4.6</td>\n",
       "      <td>3.1</td>\n",
       "      <td>1.5</td>\n",
       "      <td>0.2</td>\n",
       "      <td>Iris-setosa</td>\n",
       "    </tr>\n",
       "    <tr>\n",
       "      <th>4</th>\n",
       "      <td>5.0</td>\n",
       "      <td>3.6</td>\n",
       "      <td>1.4</td>\n",
       "      <td>0.2</td>\n",
       "      <td>Iris-setosa</td>\n",
       "    </tr>\n",
       "  </tbody>\n",
       "</table>\n",
       "</div>"
      ],
      "text/plain": [
       "   sepal_length  sepal_width  petal_length  petal_width        class\n",
       "0           5.1          3.5           1.4          0.2  Iris-setosa\n",
       "1           4.9          3.0           1.4          0.2  Iris-setosa\n",
       "2           4.7          3.2           1.3          0.2  Iris-setosa\n",
       "3           4.6          3.1           1.5          0.2  Iris-setosa\n",
       "4           5.0          3.6           1.4          0.2  Iris-setosa"
      ]
     },
     "execution_count": 14,
     "metadata": {},
     "output_type": "execute_result"
    }
   ],
   "source": [
    "#######\n",
    "# Objective: Using the iris dataset, develop a Distplot\n",
    "# that compares the petal lengths of each class.\n",
    "# File: '../data/iris.csv'\n",
    "# Fields: 'sepal_length','sepal_width','petal_length','petal_width','class'\n",
    "# Classes: 'Iris-setosa','Iris-versicolor','Iris-virginica'\n",
    "######\n",
    "\n",
    "# create a DataFrame from the .csv file:\n",
    "disp_data_exc = pd.read_csv('../data/iris.csv',header = 0)\n",
    "\n",
    "disp_data_exc.head()"
   ]
  },
  {
   "cell_type": "code",
   "execution_count": 16,
   "id": "ad02f1dd",
   "metadata": {},
   "outputs": [],
   "source": [
    "# create a data variable:\n",
    "\n",
    "labs = disp_data_exc['class'].drop_duplicates().to_list()\n",
    "\n",
    "datas = [disp_data_exc.loc[disp_data_exc['class'] == i, 'petal_length'] for i in labs]"
   ]
  },
  {
   "cell_type": "code",
   "execution_count": 22,
   "id": "dd7dc3c9",
   "metadata": {},
   "outputs": [
    {
     "data": {
      "text/plain": [
       "'temp-plot.html'"
      ]
     },
     "execution_count": 22,
     "metadata": {},
     "output_type": "execute_result"
    }
   ],
   "source": [
    "disp_exc = ff.create_distplot(hist_data= datas, \n",
    "                              group_labels= labs\n",
    "                              )\n",
    "\n",
    "# add a layout\n",
    "\n",
    "disp_lay = go.Layout(title = 'Disp_plot')\n",
    "\n",
    "\n",
    "pyo.plot(disp_exc)"
   ]
  },
  {
   "cell_type": "code",
   "execution_count": null,
   "id": "526bb3ff",
   "metadata": {},
   "outputs": [],
   "source": []
  }
 ],
 "metadata": {
  "kernelspec": {
   "display_name": "base",
   "language": "python",
   "name": "python3"
  },
  "language_info": {
   "codemirror_mode": {
    "name": "ipython",
    "version": 3
   },
   "file_extension": ".py",
   "mimetype": "text/x-python",
   "name": "python",
   "nbconvert_exporter": "python",
   "pygments_lexer": "ipython3",
   "version": "3.9.13"
  }
 },
 "nbformat": 4,
 "nbformat_minor": 5
}
