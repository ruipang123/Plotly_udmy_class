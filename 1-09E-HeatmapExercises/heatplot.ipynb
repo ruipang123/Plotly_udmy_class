{
 "cells": [
  {
   "cell_type": "code",
   "execution_count": 2,
   "id": "94caef22",
   "metadata": {},
   "outputs": [],
   "source": [
    "import numpy as np\n",
    "import pandas as pd \n",
    "import plotly.express as px \n",
    "import plotly.graph_objects as go\n",
    "import plotly.offline as pyo\n",
    "import plotly.figure_factory as ff"
   ]
  },
  {
   "cell_type": "code",
   "execution_count": 13,
   "id": "f05ab29f",
   "metadata": {},
   "outputs": [],
   "source": [
    "heat1 = pd.read_csv('../data/2010SantaBarbaraCA.csv')\n",
    "heat2 = pd.read_csv('../data/2010SitkaAK.csv')\n",
    "heat3 = pd.read_csv('../data/2010YumaAZ.csv')"
   ]
  },
  {
   "cell_type": "code",
   "execution_count": null,
   "id": "b855e2b9",
   "metadata": {},
   "outputs": [],
   "source": [
    "data_list = [heat1, heat2, heat3]\n",
    "heat_d = [go.Heatmap(x = i.DAY, \n",
    "                     y = i.LST_TIME,\n",
    "                     z = i.T_HR_AVG.tolist(),\n",
    "                     colorscale= 'Jet',\n",
    "                     zmax= 40,\n",
    "                     zmin= 5) for i in data_list]"
   ]
  },
  {
   "cell_type": "code",
   "execution_count": 22,
   "id": "1a8f9e98",
   "metadata": {},
   "outputs": [
    {
     "data": {
      "text/plain": [
       "'temp-plot.html'"
      ]
     },
     "execution_count": 22,
     "metadata": {},
     "output_type": "execute_result"
    }
   ],
   "source": [
    "from plotly import tools\n",
    "\n",
    "f_heat = tools.make_subplots(rows = 1, cols = 3, \n",
    "                             subplot_titles = ['CA', 'AK', 'AZ'],\n",
    "                             shared_yaxes= True)\n",
    "\n",
    "f_heat.append_trace(heat_d[0], 1, 1)\n",
    "f_heat.append_trace(heat_d[1], 1, 2)\n",
    "f_heat.append_trace(heat_d[2], 1, 3)\n",
    "\n",
    "pyo.plot(f_heat)"
   ]
  },
  {
   "cell_type": "code",
   "execution_count": 23,
   "id": "cb6f0320",
   "metadata": {},
   "outputs": [
    {
     "data": {
      "text/html": [
       "<div>\n",
       "<style scoped>\n",
       "    .dataframe tbody tr th:only-of-type {\n",
       "        vertical-align: middle;\n",
       "    }\n",
       "\n",
       "    .dataframe tbody tr th {\n",
       "        vertical-align: top;\n",
       "    }\n",
       "\n",
       "    .dataframe thead th {\n",
       "        text-align: right;\n",
       "    }\n",
       "</style>\n",
       "<table border=\"1\" class=\"dataframe\">\n",
       "  <thead>\n",
       "    <tr style=\"text-align: right;\">\n",
       "      <th></th>\n",
       "      <th>year</th>\n",
       "      <th>month</th>\n",
       "      <th>passengers</th>\n",
       "    </tr>\n",
       "  </thead>\n",
       "  <tbody>\n",
       "    <tr>\n",
       "      <th>0</th>\n",
       "      <td>1949</td>\n",
       "      <td>January</td>\n",
       "      <td>112</td>\n",
       "    </tr>\n",
       "    <tr>\n",
       "      <th>1</th>\n",
       "      <td>1949</td>\n",
       "      <td>February</td>\n",
       "      <td>118</td>\n",
       "    </tr>\n",
       "    <tr>\n",
       "      <th>2</th>\n",
       "      <td>1949</td>\n",
       "      <td>March</td>\n",
       "      <td>132</td>\n",
       "    </tr>\n",
       "    <tr>\n",
       "      <th>3</th>\n",
       "      <td>1949</td>\n",
       "      <td>April</td>\n",
       "      <td>129</td>\n",
       "    </tr>\n",
       "    <tr>\n",
       "      <th>4</th>\n",
       "      <td>1949</td>\n",
       "      <td>May</td>\n",
       "      <td>121</td>\n",
       "    </tr>\n",
       "  </tbody>\n",
       "</table>\n",
       "</div>"
      ],
      "text/plain": [
       "   year     month  passengers\n",
       "0  1949   January         112\n",
       "1  1949  February         118\n",
       "2  1949     March         132\n",
       "3  1949     April         129\n",
       "4  1949       May         121"
      ]
     },
     "execution_count": 23,
     "metadata": {},
     "output_type": "execute_result"
    }
   ],
   "source": [
    "#######\n",
    "# Objective: Using the \"flights\" dataset available\n",
    "# from the data folder as flights.csv\n",
    "# create a heatmap with the following parameters:\n",
    "# x-axis=\"year\"\n",
    "# y-axis=\"month\"\n",
    "# z-axis(color)=\"passengers\"\n",
    "######\n",
    "\n",
    "# Create a DataFrame from  \"flights\" data\n",
    "flt = pd.read_csv('../data/flights.csv')\n",
    "\n",
    "flt.head()"
   ]
  },
  {
   "cell_type": "code",
   "execution_count": 25,
   "id": "7861a153",
   "metadata": {},
   "outputs": [
    {
     "data": {
      "text/plain": [
       "'temp-plot.html'"
      ]
     },
     "execution_count": 25,
     "metadata": {},
     "output_type": "execute_result"
    }
   ],
   "source": [
    "flt_plot = go.Heatmap(x = flt.year,\n",
    "                      y = flt.month,\n",
    "                      z = flt.passengers.tolist(),\n",
    ")\n",
    "\n",
    "flt_fig = go.Figure(data = flt_plot)\n",
    "flt_fig.layout.update(title = 'Heatplot Exercises')\n",
    "pyo.plot(flt_fig)"
   ]
  }
 ],
 "metadata": {
  "kernelspec": {
   "display_name": "base",
   "language": "python",
   "name": "python3"
  },
  "language_info": {
   "codemirror_mode": {
    "name": "ipython",
    "version": 3
   },
   "file_extension": ".py",
   "mimetype": "text/x-python",
   "name": "python",
   "nbconvert_exporter": "python",
   "pygments_lexer": "ipython3",
   "version": "3.9.13"
  }
 },
 "nbformat": 4,
 "nbformat_minor": 5
}
