{
 "cells": [
  {
   "cell_type": "code",
   "execution_count": 2,
   "id": "2032948d",
   "metadata": {},
   "outputs": [],
   "source": [
    "import numpy as np \n",
    "import pandas as pd \n",
    "import plotly.express as px \n",
    "import plotly.graph_objects as go \n",
    "import plotly.offline as pyo\n",
    "import plotly.figure_factory as ff\n",
    "import dash \n",
    "import dash_core_components as dcc\n",
    "import dash_html_components as html\n",
    "from dash.dependencies import Input, Output\n"
   ]
  },
  {
   "cell_type": "code",
   "execution_count": 8,
   "id": "1899451c",
   "metadata": {},
   "outputs": [],
   "source": [
    "call = dash.Dash()\n",
    "\n",
    "call.layout = html.Div([\n",
    "    dcc.Input(id = 'f1', value = 'hello world', type = 'text'),\n",
    "    html.Div(id = 'div_1')\n",
    "]\n",
    ")\n",
    "@call.callback(\n",
    "    Output(component_id= 'div_1', component_property= 'children'),\n",
    "    [Input(component_id= 'f1', component_property= 'value')],\n",
    "    prevent_initial_call=True\n",
    ")\n",
    "\n",
    "def update_output(input_v):\n",
    "    return f'you enterned {input_v}'\n",
    "\n",
    "# call.run()"
   ]
  },
  {
   "cell_type": "code",
   "execution_count": 9,
   "id": "f822b51f",
   "metadata": {},
   "outputs": [
    {
     "data": {
      "text/html": [
       "<div>\n",
       "<style scoped>\n",
       "    .dataframe tbody tr th:only-of-type {\n",
       "        vertical-align: middle;\n",
       "    }\n",
       "\n",
       "    .dataframe tbody tr th {\n",
       "        vertical-align: top;\n",
       "    }\n",
       "\n",
       "    .dataframe thead th {\n",
       "        text-align: right;\n",
       "    }\n",
       "</style>\n",
       "<table border=\"1\" class=\"dataframe\">\n",
       "  <thead>\n",
       "    <tr style=\"text-align: right;\">\n",
       "      <th></th>\n",
       "      <th>country</th>\n",
       "      <th>year</th>\n",
       "      <th>pop</th>\n",
       "      <th>continent</th>\n",
       "      <th>lifeExp</th>\n",
       "      <th>gdpPercap</th>\n",
       "    </tr>\n",
       "  </thead>\n",
       "  <tbody>\n",
       "    <tr>\n",
       "      <th>0</th>\n",
       "      <td>Afghanistan</td>\n",
       "      <td>1952</td>\n",
       "      <td>8425333.0</td>\n",
       "      <td>Asia</td>\n",
       "      <td>28.801</td>\n",
       "      <td>779.445314</td>\n",
       "    </tr>\n",
       "    <tr>\n",
       "      <th>1</th>\n",
       "      <td>Afghanistan</td>\n",
       "      <td>1957</td>\n",
       "      <td>9240934.0</td>\n",
       "      <td>Asia</td>\n",
       "      <td>30.332</td>\n",
       "      <td>820.853030</td>\n",
       "    </tr>\n",
       "    <tr>\n",
       "      <th>2</th>\n",
       "      <td>Afghanistan</td>\n",
       "      <td>1962</td>\n",
       "      <td>10267083.0</td>\n",
       "      <td>Asia</td>\n",
       "      <td>31.997</td>\n",
       "      <td>853.100710</td>\n",
       "    </tr>\n",
       "    <tr>\n",
       "      <th>3</th>\n",
       "      <td>Afghanistan</td>\n",
       "      <td>1967</td>\n",
       "      <td>11537966.0</td>\n",
       "      <td>Asia</td>\n",
       "      <td>34.020</td>\n",
       "      <td>836.197138</td>\n",
       "    </tr>\n",
       "    <tr>\n",
       "      <th>4</th>\n",
       "      <td>Afghanistan</td>\n",
       "      <td>1972</td>\n",
       "      <td>13079460.0</td>\n",
       "      <td>Asia</td>\n",
       "      <td>36.088</td>\n",
       "      <td>739.981106</td>\n",
       "    </tr>\n",
       "  </tbody>\n",
       "</table>\n",
       "</div>"
      ],
      "text/plain": [
       "       country  year         pop continent  lifeExp   gdpPercap\n",
       "0  Afghanistan  1952   8425333.0      Asia   28.801  779.445314\n",
       "1  Afghanistan  1957   9240934.0      Asia   30.332  820.853030\n",
       "2  Afghanistan  1962  10267083.0      Asia   31.997  853.100710\n",
       "3  Afghanistan  1967  11537966.0      Asia   34.020  836.197138\n",
       "4  Afghanistan  1972  13079460.0      Asia   36.088  739.981106"
      ]
     },
     "execution_count": 9,
     "metadata": {},
     "output_type": "execute_result"
    }
   ],
   "source": [
    "c1_data = pd.read_csv('../data/gapminderDataFiveYear.csv')\n",
    "c1_data.head()\n"
   ]
  },
  {
   "cell_type": "code",
   "execution_count": 11,
   "id": "db97cd3c",
   "metadata": {},
   "outputs": [
    {
     "data": {
      "text/plain": [
       "[1952, 1957, 1962, 1967, 1972, 1977, 1982, 1987, 1992, 1997, 2002, 2007]"
      ]
     },
     "execution_count": 11,
     "metadata": {},
     "output_type": "execute_result"
    }
   ],
   "source": [
    "year_d = [i for i in c1_data.year.drop_duplicates()]\n",
    "\n",
    "year_d"
   ]
  },
  {
   "cell_type": "code",
   "execution_count": 28,
   "id": "cc378dc5",
   "metadata": {},
   "outputs": [
    {
     "data": {
      "text/html": [
       "\n",
       "        <iframe\n",
       "            width=\"100%\"\n",
       "            height=\"650\"\n",
       "            src=\"http://127.0.0.1:8050/\"\n",
       "            frameborder=\"0\"\n",
       "            allowfullscreen\n",
       "            \n",
       "        ></iframe>\n",
       "        "
      ],
      "text/plain": [
       "<IPython.lib.display.IFrame at 0x7ff0fabe18b0>"
      ]
     },
     "metadata": {},
     "output_type": "display_data"
    }
   ],
   "source": [
    "color_map = dict(Asia = 'red',\n",
    "                 Europe = 'orange',\n",
    "                 Africa = 'green',\n",
    "                 Americas = 'blue',\n",
    "                 Oceania = 'pink')\n",
    "\n",
    "c1 = dash.Dash()\n",
    "\n",
    "c1.layout = html.Div([\n",
    "    dcc.Graph(\n",
    "        id = 'call_1'\n",
    "    ),\n",
    "    dcc.Dropdown(id = 'drop_year', \n",
    "                 options  = [dict(label = i, value = i) for i in year_d],\n",
    "                 value = 1952\n",
    "                 )\n",
    "])\n",
    "\n",
    "@c1.callback(Output(component_id= 'call_1', component_property= 'figure'),\n",
    "             [Input(component_id= 'drop_year', component_property= 'value')])\n",
    "\n",
    "def plot_out(select_year):\n",
    "    df_t = c1_data.loc[c1_data.year == select_year,]\n",
    "    plot_data = [go.Scatter(x = df_t.loc[df_t.continent == ct,'gdpPercap'],\n",
    "                            y =  df_t.loc[df_t.continent == ct,'lifeExp'],\n",
    "                            mode = 'markers',\n",
    "                            name = ct,\n",
    "                            text = df_t.country,\n",
    "                            marker = dict(color = color_map[ct])\n",
    "                            ) for ct in df_t.continent.drop_duplicates()]\n",
    "    plot_layout = go.Layout( title = 'happy',\n",
    "                            xaxis= dict(title = 'GDP per capita'),\n",
    "                            yaxis= dict(title = 'Life long'),\n",
    "                            hovermode= 'closest'\n",
    "                            \n",
    "    )\n",
    "    return dict(data = plot_data,\n",
    "                layout = plot_layout)\n",
    "\n",
    "c1.run()"
   ]
  },
  {
   "cell_type": "code",
   "execution_count": null,
   "id": "bbb26c01",
   "metadata": {},
   "outputs": [],
   "source": []
  },
  {
   "cell_type": "code",
   "execution_count": 15,
   "id": "2620c91e",
   "metadata": {},
   "outputs": [
    {
     "data": {
      "text/plain": [
       "[{'label': '1952', 'value': '1952'},\n",
       " {'label': '1957', 'value': '1957'},\n",
       " {'label': '1962', 'value': '1962'},\n",
       " {'label': '1967', 'value': '1967'},\n",
       " {'label': '1972', 'value': '1972'},\n",
       " {'label': '1977', 'value': '1977'},\n",
       " {'label': '1982', 'value': '1982'},\n",
       " {'label': '1987', 'value': '1987'},\n",
       " {'label': '1992', 'value': '1992'},\n",
       " {'label': '1997', 'value': '1997'},\n",
       " {'label': '2002', 'value': '2002'},\n",
       " {'label': '2007', 'value': '2007'}]"
      ]
     },
     "execution_count": 15,
     "metadata": {},
     "output_type": "execute_result"
    }
   ],
   "source": [
    "[dict(label = str(i), value = str(i)) for i in year_d]"
   ]
  },
  {
   "cell_type": "code",
   "execution_count": null,
   "id": "a47b2e14",
   "metadata": {},
   "outputs": [],
   "source": []
  }
 ],
 "metadata": {
  "kernelspec": {
   "display_name": "base",
   "language": "python",
   "name": "python3"
  },
  "language_info": {
   "codemirror_mode": {
    "name": "ipython",
    "version": 3
   },
   "file_extension": ".py",
   "mimetype": "text/x-python",
   "name": "python",
   "nbconvert_exporter": "python",
   "pygments_lexer": "ipython3",
   "version": "3.9.13"
  }
 },
 "nbformat": 4,
 "nbformat_minor": 5
}
